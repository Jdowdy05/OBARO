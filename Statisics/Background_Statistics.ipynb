{
 "cells": [
  {
   "cell_type": "markdown",
   "id": "8e7417eb",
   "metadata": {},
   "source": [
    "# Some Statistics for Background Values\n",
    "### January 23, 2022\n",
    "### Ethan Colbert"
   ]
  },
  {
   "cell_type": "markdown",
   "id": "f6ce998e",
   "metadata": {},
   "source": [
    "First I'll pull the data in from xml using the pullFromXml function. I modified this from the method in the GraphScript2 module. The main change is that this one uses the Pandas dataframe rather than a Python list. It should be more efficient for such a large sample size."
   ]
  },
  {
   "cell_type": "code",
   "execution_count": 16,
   "id": "0baaca2c",
   "metadata": {},
   "outputs": [],
   "source": [
    "from matplotlib import pyplot\n",
    "import xml.etree.cElementTree as ET\n",
    "import pandas as pd"
   ]
  },
  {
   "cell_type": "code",
   "execution_count": 38,
   "id": "abd79db1",
   "metadata": {},
   "outputs": [],
   "source": [
    "def newPullFromXml(filePath):\n",
    "    tree = ET.parse(filePath)\n",
    "    root = tree.getroot()\n",
    "    \n",
    "    dataOut = pd.DataFrame(columns=['Signal', 'Background'])\n",
    "    \n",
    "    for child in root:\n",
    "        signal = int(child[4].attrib['value'])\n",
    "        background = int(child[10].attrib['value'])\n",
    "        dataOut = dataOut.append(pd.DataFrame([[signal, background]], columns=['Signal', 'Background']), ignore_index=True)\n",
    "    \n",
    "    return dataOut"
   ]
  },
  {
   "cell_type": "code",
   "execution_count": 39,
   "id": "7a397782",
   "metadata": {},
   "outputs": [],
   "source": [
    "newSemesterData2 = newPullFromXml(\"seed-1000-phosim-5-1-7-all-object.xml\")"
   ]
  },
  {
   "cell_type": "code",
   "execution_count": 41,
   "id": "fc51172a",
   "metadata": {},
   "outputs": [
    {
     "name": "stdout",
     "output_type": "stream",
     "text": [
      "    Signal Background\n",
      "0    74993      31964\n",
      "1   269392      19544\n",
      "2    41985      30074\n",
      "3    40874      30273\n",
      "4    60642      32016\n",
      "5    45958      29805\n",
      "6    48647      30344\n",
      "7    48800      22997\n",
      "8    52120      30344\n",
      "9    57056      27592\n",
      "10   58831      27932\n"
     ]
    }
   ],
   "source": [
    "print(newSemesterData2[0:11])"
   ]
  },
  {
   "cell_type": "code",
   "execution_count": 43,
   "id": "ebab5a65",
   "metadata": {},
   "outputs": [
    {
     "name": "stdout",
     "output_type": "stream",
     "text": [
      "        Signal  Background\n",
      "count    90362       90362\n",
      "unique   43619       31357\n",
      "top     110580           0\n",
      "freq        13         456\n"
     ]
    }
   ],
   "source": [
    "print(newSemesterData2.describe())"
   ]
  },
  {
   "cell_type": "code",
   "execution_count": 44,
   "id": "f6c01c06",
   "metadata": {},
   "outputs": [
    {
     "name": "stdout",
     "output_type": "stream",
     "text": [
      "0\n"
     ]
    }
   ],
   "source": [
    "print(newSemesterData2['Background'].min())"
   ]
  },
  {
   "cell_type": "code",
   "execution_count": 45,
   "id": "fd632e37",
   "metadata": {},
   "outputs": [
    {
     "name": "stdout",
     "output_type": "stream",
     "text": [
      "101560\n"
     ]
    }
   ],
   "source": [
    "print(newSemesterData2['Background'].max())"
   ]
  },
  {
   "cell_type": "code",
   "execution_count": 48,
   "id": "d6e34885",
   "metadata": {},
   "outputs": [
    {
     "name": "stdout",
     "output_type": "stream",
     "text": [
      "456\n"
     ]
    }
   ],
   "source": [
    "print(newSemesterData2['Background'].value_counts()[0])"
   ]
  },
  {
   "cell_type": "code",
   "execution_count": null,
   "id": "e92df84a",
   "metadata": {},
   "outputs": [],
   "source": []
  }
 ],
 "metadata": {
  "kernelspec": {
   "display_name": "Python 3",
   "language": "python",
   "name": "python3"
  },
  "language_info": {
   "codemirror_mode": {
    "name": "ipython",
    "version": 3
   },
   "file_extension": ".py",
   "mimetype": "text/x-python",
   "name": "python",
   "nbconvert_exporter": "python",
   "pygments_lexer": "ipython3",
   "version": "3.8.8"
  }
 },
 "nbformat": 4,
 "nbformat_minor": 5
}
